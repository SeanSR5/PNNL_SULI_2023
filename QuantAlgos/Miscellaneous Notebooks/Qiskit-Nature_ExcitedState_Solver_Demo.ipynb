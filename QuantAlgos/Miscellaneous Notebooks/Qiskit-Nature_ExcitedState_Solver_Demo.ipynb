{
 "cells": [
  {
   "cell_type": "code",
   "execution_count": 1,
   "metadata": {},
   "outputs": [],
   "source": [
    "from qiskit_nature.units import DistanceUnit\n",
    "from qiskit_nature.second_q.drivers import PySCFDriver\n",
    "\n",
    "driver = PySCFDriver(\n",
    "    atom = \"H 0 0 0; H 0 0 0.735\",\n",
    "    basis = \"sto3g\",\n",
    "    charge = 0,\n",
    "    spin = 0,\n",
    "    unit = DistanceUnit.ANGSTROM,\n",
    ")\n",
    "\n",
    "es_problem = driver.run()"
   ]
  },
  {
   "cell_type": "code",
   "execution_count": 5,
   "metadata": {},
   "outputs": [],
   "source": [
    "from qiskit_nature.second_q.mappers import JordanWignerMapper\n",
    "\n",
    "mapper = JordanWignerMapper()"
   ]
  },
  {
   "attachments": {},
   "cell_type": "markdown",
   "metadata": {},
   "source": [
    "NumPyEigenSolver Method:"
   ]
  },
  {
   "cell_type": "code",
   "execution_count": 7,
   "metadata": {},
   "outputs": [],
   "source": [
    "from qiskit.algorithms.eigensolvers import NumPyEigensolver\n",
    "\n",
    "numpy_solver = NumPyEigensolver(filter_criterion=es_problem.get_default_filter_criterion())"
   ]
  },
  {
   "attachments": {},
   "cell_type": "markdown",
   "metadata": {},
   "source": [
    "Equation of Motion Solver:"
   ]
  },
  {
   "cell_type": "code",
   "execution_count": 6,
   "metadata": {},
   "outputs": [
    {
     "name": "stderr",
     "output_type": "stream",
     "text": [
      "/home/ssr/.local/lib/python3.8/site-packages/qiskit_nature/deprecation.py:297: PauliSumOpDeprecationWarning: PauliSumOp is deprecated as of version 0.6.0 and support for them will be removed no sooner than 3 months after the release. Instead, use SparsePauliOp. You can switch to SparsePauliOp immediately, by setting `qiskit_nature.settings.use_pauli_sum_op` to `False`.\n",
      "  return func(*args, **kwargs)\n"
     ]
    }
   ],
   "source": [
    "from qiskit.algorithms.minimum_eigensolvers import VQE\n",
    "from qiskit.algorithms.optimizers import SLSQP\n",
    "from qiskit.primitives import Estimator\n",
    "from qiskit_nature.second_q.algorithms import GroundStateEigensolver, QEOM\n",
    "from qiskit_nature.second_q.circuit.library import HartreeFock, UCCSD\n",
    "\n",
    "ansatz = UCCSD(\n",
    "    es_problem.num_spatial_orbitals,\n",
    "    es_problem.num_particles,\n",
    "    mapper,\n",
    "    initial_state=HartreeFock(\n",
    "        es_problem.num_spatial_orbitals,\n",
    "        es_problem.num_particles,\n",
    "        mapper,\n",
    "    ),\n",
    ")\n",
    "\n",
    "estimator = Estimator()\n",
    "# This first part sets the ground state solver\n",
    "# see more about this part in the ground state calculation tutorial\n",
    "solver = VQE(estimator, ansatz, SLSQP())\n",
    "solver.initial_point = [0.0] * ansatz.num_parameters\n",
    "gse = GroundStateEigensolver(mapper, solver)\n",
    "\n",
    "# The qEOM algorithm is simply instantiated with the chosen ground state solver and Estimator primitive\n",
    "qeom_excited_states_solver = QEOM(gse, estimator, \"sd\")"
   ]
  },
  {
   "attachments": {},
   "cell_type": "markdown",
   "metadata": {},
   "source": [
    "The Calculation and Results:"
   ]
  },
  {
   "cell_type": "code",
   "execution_count": 8,
   "metadata": {},
   "outputs": [
    {
     "name": "stdout",
     "output_type": "stream",
     "text": [
      "=== GROUND STATE ENERGY ===\n",
      " \n",
      "* Electronic ground state energy (Hartree): -1.857275030202\n",
      "  - computed part:      -1.857275030202\n",
      "~ Nuclear repulsion energy (Hartree): 0.719968994449\n",
      "> Total ground state energy (Hartree): -1.137306035753\n",
      " \n",
      "=== MEASURED OBSERVABLES ===\n",
      " \n",
      "  0:  # Particles: 2.000 S: 0.000 S^2: 0.000 M: 0.000\n",
      " \n",
      "=== DIPOLE MOMENTS ===\n",
      " \n",
      "~ Nuclear dipole moment (a.u.): [0.0  0.0  1.3889487]\n",
      " \n",
      "  0: \n",
      "  * Electronic dipole moment (a.u.): [0.0  0.0  1.388948701555]\n",
      "    - computed part:      [0.0  0.0  1.388948701555]\n",
      "  > Dipole moment (a.u.): [0.0  0.0  -0.000000001555]  Total: 0.000000001555\n",
      "                 (debye): [0.0  0.0  -0.000000003953]  Total: 0.000000003953\n",
      " \n",
      "\n",
      "\n",
      "\n",
      "=== GROUND STATE ENERGY ===\n",
      " \n",
      "* Electronic ground state energy (Hartree): -1.857275030145\n",
      "  - computed part:      -1.857275030145\n",
      "~ Nuclear repulsion energy (Hartree): 0.719968994449\n",
      "> Total ground state energy (Hartree): -1.137306035696\n",
      " \n",
      "=== EXCITED STATE ENERGIES ===\n",
      " \n",
      "  1: \n",
      "* Electronic excited state energy (Hartree): -1.244586756145\n",
      "> Total excited state energy (Hartree): -0.524617761696\n",
      "  2: \n",
      "* Electronic excited state energy (Hartree): -0.882724356546\n",
      "> Total excited state energy (Hartree): -0.162755362097\n",
      "  3: \n",
      "* Electronic excited state energy (Hartree): -0.224913459141\n",
      "> Total excited state energy (Hartree): 0.495055535308\n",
      " \n",
      "=== MEASURED OBSERVABLES ===\n",
      " \n",
      "  0:  # Particles: 0.000 S: 0.000 S^2: 0.000 M: 0.000\n",
      "  1:  # Particles: 0.000 S: 0.000 S^2: 0.000 M: 0.000\n",
      "  2:  # Particles: 0.000 S: 0.000 S^2: 0.000 M: 0.000\n",
      "  3:  # Particles: 0.000 S: 0.000 S^2: 0.000 M: 0.000\n",
      " \n",
      "=== DIPOLE MOMENTS ===\n",
      " \n",
      "~ Nuclear dipole moment (a.u.): [0.0  0.0  1.3889487]\n",
      " \n",
      "  0: \n",
      "  * Electronic dipole moment (a.u.): [0.0  0.0  0.0]\n",
      "    - computed part:      [0.0  0.0  0.0]\n",
      "  > Dipole moment (a.u.): [0.0  0.0  1.3889487]  Total: 1.3889487\n",
      "                 (debye): [0.0  0.0  3.530355123354]  Total: 3.530355123354\n",
      " \n",
      "  1: \n",
      "  * Electronic dipole moment (a.u.): [0.0  0.0  0.0]\n",
      "    - computed part:      [0.0  0.0  0.0]\n",
      "  > Dipole moment (a.u.): [0.0  0.0  1.3889487]  Total: 1.3889487\n",
      "                 (debye): [0.0  0.0  3.530355123354]  Total: 3.530355123354\n",
      " \n",
      "  2: \n",
      "  * Electronic dipole moment (a.u.): [0.0  0.0  0.0]\n",
      "    - computed part:      [0.0  0.0  0.0]\n",
      "  > Dipole moment (a.u.): [0.0  0.0  1.3889487]  Total: 1.3889487\n",
      "                 (debye): [0.0  0.0  3.530355123354]  Total: 3.530355123354\n",
      " \n",
      "  3: \n",
      "  * Electronic dipole moment (a.u.): [0.0  0.0  0.0]\n",
      "    - computed part:      [0.0  0.0  0.0]\n",
      "  > Dipole moment (a.u.): [0.0  0.0  1.3889487]  Total: 1.3889487\n",
      "                 (debye): [0.0  0.0  3.530355123354]  Total: 3.530355123354\n",
      " \n"
     ]
    }
   ],
   "source": [
    "from qiskit_nature.second_q.algorithms import ExcitedStatesEigensolver\n",
    "\n",
    "numpy_excited_states_solver = ExcitedStatesEigensolver(mapper, numpy_solver)\n",
    "numpy_results = numpy_excited_states_solver.solve(es_problem)\n",
    "\n",
    "qeom_results = qeom_excited_states_solver.solve(es_problem)\n",
    "\n",
    "print(numpy_results)\n",
    "print(\"\\n\\n\")\n",
    "print(qeom_results)"
   ]
  }
 ],
 "metadata": {
  "kernelspec": {
   "display_name": "Python 3",
   "language": "python",
   "name": "python3"
  },
  "language_info": {
   "codemirror_mode": {
    "name": "ipython",
    "version": 3
   },
   "file_extension": ".py",
   "mimetype": "text/x-python",
   "name": "python",
   "nbconvert_exporter": "python",
   "pygments_lexer": "ipython3",
   "version": "3.8.10"
  },
  "orig_nbformat": 4
 },
 "nbformat": 4,
 "nbformat_minor": 2
}
