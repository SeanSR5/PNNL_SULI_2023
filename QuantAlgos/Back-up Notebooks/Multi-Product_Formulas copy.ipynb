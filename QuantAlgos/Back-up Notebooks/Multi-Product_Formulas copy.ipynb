{
 "cells": [
  {
   "cell_type": "code",
   "execution_count": 24,
   "metadata": {},
   "outputs": [],
   "source": [
    "import numpy as np\n",
    "import matplotlib.pyplot as plt\n",
    "from qiskit_nature.units import DistanceUnit\n",
    "from qiskit_nature.second_q.drivers import PySCFDriver\n",
    "from qiskit.algorithms.minimum_eigensolvers import NumPyMinimumEigensolver\n",
    "from qiskit_nature.second_q.mappers import JordanWignerMapper\n",
    "from qiskit.algorithms.minimum_eigensolvers import VQE\n",
    "from qiskit.algorithms.optimizers import SLSQP\n",
    "from qiskit.primitives import Estimator\n",
    "from qiskit_nature.second_q.algorithms import GroundStateEigensolver, QEOM\n",
    "from qiskit_nature.second_q.circuit.library import HartreeFock, UCCSD\n",
    "from qiskit import *\n",
    "from qiskit import QuantumCircuit, ClassicalRegister, QuantumRegister, transpile\n",
    "from qiskit.tools.visualization import circuit_drawer\n",
    "from qiskit.quantum_info import state_fidelity, Statevector, Operator, Pauli, SparsePauliOp\n",
    "from qiskit import Aer\n",
    "from qiskit.primitives import Estimator\n",
    "from qiskit.algorithms.optimizers import SPSA\n",
    "from qiskit.circuit.library import TwoLocal, PauliEvolutionGate\n",
    "from qiskit.algorithms import TimeEvolutionProblem, RealTimeEvolver, RealEvolver, SciPyRealEvolver, VarQRTE\n",
    "from qiskit.algorithms.time_evolvers import TrotterQRTE\n",
    "from qiskit.circuit import Parameter"
   ]
  },
  {
   "attachments": {},
   "cell_type": "markdown",
   "metadata": {},
   "source": [
    "Dihydrogen Molecule (Electronic Hamiltonian):"
   ]
  },
  {
   "cell_type": "code",
   "execution_count": 25,
   "metadata": {},
   "outputs": [
    {
     "name": "stdout",
     "output_type": "stream",
     "text": [
      "<qiskit_nature.second_q.problems.electronic_structure_problem.ElectronicStructureProblem object at 0x7f4d358fc4c0>\n"
     ]
    }
   ],
   "source": [
    "# Prepare a Dihydrogen Molecule within its second_q_op structure:\n",
    "\n",
    "h2_driver = PySCFDriver(\n",
    "    atom = \"H 0 0 0; H 0 0 0.735\",\n",
    "    basis = \"sto3g\",\n",
    "    charge = 0,\n",
    "    spin = 0,\n",
    "    unit = DistanceUnit.ANGSTROM,\n",
    ")\n",
    "\n",
    "# Create Problem instance for dihydrogen molecule:\n",
    "\n",
    "diHydro_prob = h2_driver.run()\n",
    "print(diHydro_prob)"
   ]
  },
  {
   "cell_type": "code",
   "execution_count": 27,
   "metadata": {},
   "outputs": [
    {
     "name": "stdout",
     "output_type": "stream",
     "text": [
      "Polynomial Tensor\n",
      " \"+-\":\n",
      "[[-1.25633907e+00 -1.37083854e-17]\n",
      " [-6.07732712e-17 -4.71896007e-01]]\n",
      " \"++--\":\n",
      "[[[[6.75710155e-01 1.69253442e-16]\n",
      "   [1.56722377e-16 1.80931200e-01]]\n",
      "\n",
      "  [[4.84650299e-17 1.80931200e-01]\n",
      "   [6.64581730e-01 3.79897400e-16]]]\n",
      "\n",
      "\n",
      " [[[1.01440795e-16 6.64581730e-01]\n",
      "   [1.80931200e-01 4.71502663e-17]]\n",
      "\n",
      "  [[1.80931200e-01 3.78920172e-16]\n",
      "   [6.59828421e-17 6.98573723e-01]]]]\n"
     ]
    }
   ],
   "source": [
    "# Generate the Electronic Hamiltonian for Dihydrogen:\n",
    "\n",
    "h2_Hamiltonian = diHydro_prob.hamiltonian\n",
    "coefficients = h2_Hamiltonian.electronic_integrals\n",
    "print(coefficients.alpha)"
   ]
  },
  {
   "cell_type": "code",
   "execution_count": 28,
   "metadata": {},
   "outputs": [
    {
     "name": "stdout",
     "output_type": "stream",
     "text": [
      "Fermionic Operator\n",
      "number spin orbitals=4, number terms=36\n",
      "  -1.25633907300325 * ( +_0 -_0 )\n",
      "+ -0.47189600728114184 * ( +_1 -_1 )\n",
      "+ -1.25633907300325 * ( +_2 -_2 )\n",
      "+ -0.47189600728114184 * ( +_3 -_3 )\n",
      "+ 0.33785507740175813 * ( +_0 +_0 -_0 -_0 )\n",
      "+ 0.09046559989211568 * ( +_0 +_0 -_1 -_1 )\n",
      "+ 0.09046559989211564 * ( +_0 +_1 -_0 -_1 )\n",
      "+ 0.33229086512764827 * ( +_0 +_1 -_1 -_0 )\n",
      "+ 0.33785507740175813 * ( +_0 +_2 -_2 -_0 )\n",
      "+ 0.09046559989211568 * ( +_0 +_2 -_3 -_1 )\n",
      "+ 0.09046559989211564 * ( +_0 +_3 -_2 -_1 )\n",
      "+ 0.33229086512764827 * ( +_0 +_3 -_3 -_0 )\n",
      "+ 0.3322908651276482 * ( +_1 +_0 -_0 -_1 )\n",
      "+ 0.09046559989211574 * ( +_1 +_0 -_1 -_0 )\n",
      "+ 0.09046559989211565 * ( +_1 +_1 -_0 -_0 )\n",
      "+ 0.3492868613660089 * ( +_1 +_1 -_1 -_1 )\n",
      "+ 0.3322908651276482 * ( +_1 +_2 -_2 -_1 )\n",
      "+ 0.09046559989211574 * ( +_1 +_2 -_3 -_0 )\n",
      "+ 0.09046559989211565 * ( +_1 +_3 -_2 -_0 )\n",
      "+ 0.3492868613660089 * ( +_1 +_3 -_3 -_1 )\n",
      "+ 0.33785507740175813 * ( +_2 +_0 -_0 -_2 )\n",
      "+ 0.09046559989211568 * ( +_2 +_0 -_1 -_3 )\n",
      "+ 0.09046559989211564 * ( +_2 +_1 -_0 -_3 )\n",
      "+ 0.33229086512764827 * ( +_2 +_1 -_1 -_2 )\n",
      "+ 0.33785507740175813 * ( +_2 +_2 -_2 -_2 )\n",
      "+ 0.09046559989211568 * ( +_2 +_2 -_3 -_3 )\n",
      "+ 0.09046559989211564 * ( +_2 +_3 -_2 -_3 )\n",
      "+ 0.33229086512764827 * ( +_2 +_3 -_3 -_2 )\n",
      "+ 0.3322908651276482 * ( +_3 +_0 -_0 -_3 )\n",
      "+ 0.09046559989211574 * ( +_3 +_0 -_1 -_2 )\n",
      "+ 0.09046559989211565 * ( +_3 +_1 -_0 -_2 )\n",
      "+ 0.3492868613660089 * ( +_3 +_1 -_1 -_3 )\n",
      "+ 0.3322908651276482 * ( +_3 +_2 -_2 -_3 )\n",
      "+ 0.09046559989211574 * ( +_3 +_2 -_3 -_2 )\n",
      "+ 0.09046559989211565 * ( +_3 +_3 -_2 -_2 )\n",
      "+ 0.3492868613660089 * ( +_3 +_3 -_3 -_3 )\n"
     ]
    }
   ],
   "source": [
    "# Apply second-quantization transformation to Electronic Hamiltonian:\n",
    "\n",
    "sq_h2_op = h2_Hamiltonian.second_q_op()\n",
    "print(sq_h2_op)\n",
    "\n",
    "# This Second-Quantized Electronic Hamiltonian does NOT contain the nuclei repulsive/attractive terms!"
   ]
  },
  {
   "cell_type": "code",
   "execution_count": 66,
   "metadata": {},
   "outputs": [
    {
     "name": "stdout",
     "output_type": "stream",
     "text": [
      "-0.8105479805373275 * IIII\n",
      "+ 0.1721839326191556 * IIIZ\n",
      "- 0.2257534922240239 * IIZI\n",
      "+ 0.17218393261915554 * IZII\n",
      "- 0.2257534922240239 * ZIII\n",
      "+ 0.12091263261776629 * IIZZ\n",
      "+ 0.16892753870087907 * IZIZ\n",
      "+ 0.04523279994605784 * YYYY\n",
      "+ 0.04523279994605784 * XXYY\n",
      "+ 0.04523279994605784 * YYXX\n",
      "+ 0.04523279994605784 * XXXX\n",
      "+ 0.16614543256382414 * ZIIZ\n",
      "+ 0.16614543256382414 * IZZI\n",
      "+ 0.17464343068300445 * ZIZI\n",
      "+ 0.12091263261776629 * ZZII\n"
     ]
    },
    {
     "data": {
      "text/plain": [
       "PauliSumOp(SparsePauliOp(['IIII', 'IIIZ', 'IIZI', 'IZII', 'ZIII', 'IIZZ', 'IZIZ', 'YYYY', 'XXYY', 'YYXX', 'XXXX', 'ZIIZ', 'IZZI', 'ZIZI', 'ZZII'],\n",
       "              coeffs=[-1.62109596+0.j,  0.34436787+0.j, -0.45150698+0.j,  0.34436787+0.j,\n",
       " -0.45150698+0.j,  0.24182527+0.j,  0.33785508+0.j,  0.0904656 +0.j,\n",
       "  0.0904656 +0.j,  0.0904656 +0.j,  0.0904656 +0.j,  0.33229087+0.j,\n",
       "  0.33229087+0.j,  0.34928686+0.j,  0.24182527+0.j]), coeff=1.0)"
      ]
     },
     "execution_count": 66,
     "metadata": {},
     "output_type": "execute_result"
    }
   ],
   "source": [
    "# Set up Jordan-Wigner Mapper/Transformer to bring Second Quantized Hamiltonian into qubit space:\n",
    "\n",
    "jw_map = JordanWignerMapper()\n",
    "\n",
    "# Apply mapper to Second Quantized Electronic Hamiltonian:\n",
    "\n",
    "qubit_h2_Ham = jw_map.map(sq_h2_op)\n",
    "print(qubit_h2_Ham)\n",
    "#print(qubit_h2_Ham[0])\n",
    "\n",
    "#2 * qubit_h2_Ham"
   ]
  },
  {
   "cell_type": "code",
   "execution_count": 30,
   "metadata": {},
   "outputs": [
    {
     "data": {
      "image/png": "[encoded data removed]",
      "text/plain": [
       "<Figure size 203.885x367.889 with 1 Axes>"
      ]
     },
     "execution_count": 30,
     "metadata": {},
     "output_type": "execute_result"
    }
   ],
   "source": [
    "# Obtain the initial state from which to apply the time evolution of the converted Hamiltonian:\n",
    "\n",
    "initial_state = HartreeFock(diHydro_prob.num_spatial_orbitals, diHydro_prob.num_particles, jw_map,)\n",
    "\n",
    "# Draw the initial state to evolve:\n",
    "\n",
    "initial_state.draw('mpl')"
   ]
  },
  {
   "cell_type": "code",
   "execution_count": 33,
   "metadata": {},
   "outputs": [
    {
     "name": "stdout",
     "output_type": "stream",
     "text": [
      "[Instruction(name='PauliEvolution', num_qubits=4, num_clbits=0, params=[Parameter(t)]), Instruction(name='PauliEvolution', num_qubits=4, num_clbits=0, params=[Parameter(t)]), Instruction(name='PauliEvolution', num_qubits=4, num_clbits=0, params=[Parameter(t)]), Instruction(name='PauliEvolution', num_qubits=4, num_clbits=0, params=[Parameter(t)]), Instruction(name='PauliEvolution', num_qubits=4, num_clbits=0, params=[Parameter(t)]), Instruction(name='PauliEvolution', num_qubits=4, num_clbits=0, params=[Parameter(t)]), Instruction(name='PauliEvolution', num_qubits=4, num_clbits=0, params=[Parameter(t)]), Instruction(name='PauliEvolution', num_qubits=4, num_clbits=0, params=[Parameter(t)]), Instruction(name='PauliEvolution', num_qubits=4, num_clbits=0, params=[Parameter(t)]), Instruction(name='PauliEvolution', num_qubits=4, num_clbits=0, params=[Parameter(t)]), Instruction(name='PauliEvolution', num_qubits=4, num_clbits=0, params=[Parameter(t)]), Instruction(name='PauliEvolution', num_qubits=4, num_clbits=0, params=[Parameter(t)]), Instruction(name='PauliEvolution', num_qubits=4, num_clbits=0, params=[Parameter(t)]), Instruction(name='PauliEvolution', num_qubits=4, num_clbits=0, params=[Parameter(t)]), Instruction(name='PauliEvolution', num_qubits=4, num_clbits=0, params=[Parameter(t)])]\n"
     ]
    }
   ],
   "source": [
    "# Partition each qubit_h2_Ham list object into separate list of exponentiated summands:\n",
    "\n",
    "exp_summand = list()\n",
    "evo_time_range = np.arange(0, 0.2, 0.01)\n",
    "evo_time = Parameter('t')\n",
    "\n",
    "for i in range(0, len(qubit_h2_Ham)):\n",
    "    exp_summand.append(PauliEvolutionGate(qubit_h2_Ham[i], time=evo_time))"
   ]
  },
  {
   "cell_type": "code",
   "execution_count": 48,
   "metadata": {},
   "outputs": [],
   "source": [
    "# Obtain a reverse order of \"exp_summand\" for the purposes of constructing a symmetric integrator:\n",
    "\n",
    "exp_summand_rev = list()\n",
    "\n",
    "for i in range(len(exp_summand) - 1, -1, -1):\n",
    "    exp_summand_rev.append(exp_summand[i])"
   ]
  },
  {
   "cell_type": "code",
   "execution_count": 49,
   "metadata": {},
   "outputs": [],
   "source": [
    "# Generate an appropriate Integrator using scheme presented by Childs and Wiebe:\n",
    "\n",
    "#chi = 2 # Integer value for which the \"order\" of the symmetric operator-valued S function can be created.\n",
    "\n",
    "S_1 = exp_summand + exp_summand_rev # Concatenate the two lists of exponentials to form the chi-one symmetric integrator.\n"
   ]
  },
  {
   "cell_type": "code",
   "execution_count": 67,
   "metadata": {},
   "outputs": [],
   "source": [
    "# Construct appropriate Multi-Product Formula as presented in Eq. 14 of Childs and Wiebe article (Richardson Extrapolation):\n",
    "\n"
   ]
  },
  {
   "cell_type": "code",
   "execution_count": null,
   "metadata": {},
   "outputs": [],
   "source": [
    "'''# Experiment: Recursive Symmetric Integrator definition via placement'''"
   ]
  },
  {
   "cell_type": "code",
   "execution_count": null,
   "metadata": {},
   "outputs": [],
   "source": [
    "'''def S_chi_calc(s_p, t):\n",
    "\n",
    "    return 0'''"
   ]
  },
  {
   "cell_type": "code",
   "execution_count": 51,
   "metadata": {},
   "outputs": [],
   "source": [
    "'''# Construct a function that generates the appropriate recursively-defined symmetric integrator:\n",
    "\n",
    "S_chi = list()\n",
    "\n",
    "def sym_int_chi(chi_step, t):\n",
    "\n",
    "    #S_chi_step = list()\n",
    "\n",
    "    #term_1 = list() # (S_(x-1) * (s_(x_1) * t))**2\n",
    "    #term_2 = list() # S_(x_1) * ((1 - 4*s_(x-1)) * t)\n",
    "\n",
    "    chi_temp = chi_step - 1\n",
    "\n",
    "    s_p = 1 / (4 - 4**(1/(2*(chi_temp) + 1))) if chi_temp > 1 else 0 # Assign analytic value to s_p if chi is greater than 1. If not, 0.\n",
    "\n",
    "    #S_chi_minus = sym_int_chi(chi_step - 1, )\n",
    "\n",
    "    S_chi = S_1 if (s_p == 0) else ( [(s_p * t * x)**2 for x in sym_int_chi(chi_temp, t)] + [])\n",
    "\n",
    "    #for i in range \n",
    "\n",
    "\n",
    "    \n",
    "    #S_1 if (chi_step == 1) else sym_int_chi(chi_step - 1, )\n",
    "\n",
    "    return S_chi\n",
    "\n",
    "    #return S_1 if (chi_minus == 1) else S_chi_step\n",
    "\n",
    "'''\n"
   ]
  }
 ],
 "metadata": {
  "kernelspec": {
   "display_name": "Python 3",
   "language": "python",
   "name": "python3"
  },
  "language_info": {
   "codemirror_mode": {
    "name": "ipython",
    "version": 3
   },
   "file_extension": ".py",
   "mimetype": "text/x-python",
   "name": "python",
   "nbconvert_exporter": "python",
   "pygments_lexer": "ipython3",
   "version": "3.8.10"
  },
  "orig_nbformat": 4
 },
 "nbformat": 4,
 "nbformat_minor": 2
}
