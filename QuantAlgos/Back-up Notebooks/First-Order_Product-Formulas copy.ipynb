{
 "cells": [
  {
   "cell_type": "code",
   "execution_count": 319,
   "metadata": {},
   "outputs": [],
   "source": [
    "import numpy as np\n",
    "import matplotlib.pyplot as plt\n",
    "from qiskit_nature.units import DistanceUnit\n",
    "from qiskit_nature.second_q.drivers import PySCFDriver\n",
    "from qiskit.algorithms.minimum_eigensolvers import NumPyMinimumEigensolver\n",
    "from qiskit_nature.second_q.mappers import JordanWignerMapper\n",
    "from qiskit.algorithms.minimum_eigensolvers import VQE\n",
    "from qiskit.algorithms.optimizers import SLSQP\n",
    "from qiskit.primitives import Estimator\n",
    "from qiskit_nature.second_q.algorithms import GroundStateEigensolver, QEOM\n",
    "from qiskit_nature.second_q.circuit.library import HartreeFock, UCCSD\n",
    "from qiskit import *\n",
    "from qiskit import QuantumCircuit, ClassicalRegister, QuantumRegister, transpile\n",
    "from qiskit.tools.visualization import circuit_drawer\n",
    "from qiskit.quantum_info import state_fidelity, Statevector, Operator, Pauli, SparsePauliOp\n",
    "from qiskit import Aer\n",
    "from qiskit.primitives import Estimator\n",
    "from qiskit.algorithms.optimizers import SPSA\n",
    "from qiskit.circuit.library import TwoLocal, PauliEvolutionGate\n",
    "from qiskit.algorithms import TimeEvolutionProblem, RealTimeEvolver, RealEvolver, SciPyRealEvolver, VarQRTE\n",
    "from qiskit.algorithms.time_evolvers import TrotterQRTE\n",
    "from qiskit.circuit import Parameter\n"
   ]
  },
  {
   "attachments": {},
   "cell_type": "markdown",
   "metadata": {},
   "source": [
    "Second-quantized Electronic Structure:"
   ]
  },
  {
   "attachments": {},
   "cell_type": "markdown",
   "metadata": {},
   "source": [
    "Dihydrogen Molecule (Molecular Orbital Basis):"
   ]
  },
  {
   "cell_type": "code",
   "execution_count": 91,
   "metadata": {},
   "outputs": [
    {
     "name": "stdout",
     "output_type": "stream",
     "text": [
      "<qiskit_nature.second_q.problems.electronic_structure_problem.ElectronicStructureProblem object at 0x7f04789a8670>\n"
     ]
    }
   ],
   "source": [
    "# Prepare a Dihydrogen Molecule within its second_q_op structure:\n",
    "\n",
    "h2_driver = PySCFDriver(\n",
    "    atom = \"H 0 0 0; H 0 0 0.735\",\n",
    "    basis = \"sto3g\",\n",
    "    charge = 0,\n",
    "    spin = 0,\n",
    "    unit = DistanceUnit.ANGSTROM,\n",
    ")\n",
    "\n",
    "# Create Problem instance for dihydrogen molecule:\n",
    "\n",
    "diHydro_prob = h2_driver.run()\n",
    "print(diHydro_prob)\n"
   ]
  },
  {
   "cell_type": "code",
   "execution_count": 92,
   "metadata": {},
   "outputs": [
    {
     "name": "stdout",
     "output_type": "stream",
     "text": [
      "Polynomial Tensor\n",
      " \"+-\":\n",
      "[[-1.25633907e+00 -1.37083854e-17]\n",
      " [-6.07732712e-17 -4.71896007e-01]]\n",
      " \"++--\":\n",
      "[[[[6.75710155e-01 1.69253442e-16]\n",
      "   [1.56722377e-16 1.80931200e-01]]\n",
      "\n",
      "  [[4.84650299e-17 1.80931200e-01]\n",
      "   [6.64581730e-01 3.79897400e-16]]]\n",
      "\n",
      "\n",
      " [[[1.01440795e-16 6.64581730e-01]\n",
      "   [1.80931200e-01 4.71502663e-17]]\n",
      "\n",
      "  [[1.80931200e-01 3.78920172e-16]\n",
      "   [6.59828421e-17 6.98573723e-01]]]]\n"
     ]
    }
   ],
   "source": [
    "# Generate the Electronic Hamiltonian for Dihydrogen:\n",
    "\n",
    "h2_Hamiltonian = diHydro_prob.hamiltonian\n",
    "coefficients = h2_Hamiltonian.electronic_integrals\n",
    "print(coefficients.alpha)"
   ]
  },
  {
   "cell_type": "code",
   "execution_count": 93,
   "metadata": {},
   "outputs": [
    {
     "name": "stdout",
     "output_type": "stream",
     "text": [
      "Fermionic Operator\n",
      "number spin orbitals=4, number terms=36\n",
      "  -1.25633907300325 * ( +_0 -_0 )\n",
      "+ -0.47189600728114184 * ( +_1 -_1 )\n",
      "+ -1.25633907300325 * ( +_2 -_2 )\n",
      "+ -0.47189600728114184 * ( +_3 -_3 )\n",
      "+ 0.33785507740175813 * ( +_0 +_0 -_0 -_0 )\n",
      "+ 0.09046559989211568 * ( +_0 +_0 -_1 -_1 )\n",
      "+ 0.09046559989211564 * ( +_0 +_1 -_0 -_1 )\n",
      "+ 0.33229086512764827 * ( +_0 +_1 -_1 -_0 )\n",
      "+ 0.33785507740175813 * ( +_0 +_2 -_2 -_0 )\n",
      "+ 0.09046559989211568 * ( +_0 +_2 -_3 -_1 )\n",
      "+ 0.09046559989211564 * ( +_0 +_3 -_2 -_1 )\n",
      "+ 0.33229086512764827 * ( +_0 +_3 -_3 -_0 )\n",
      "+ 0.3322908651276482 * ( +_1 +_0 -_0 -_1 )\n",
      "+ 0.09046559989211574 * ( +_1 +_0 -_1 -_0 )\n",
      "+ 0.09046559989211565 * ( +_1 +_1 -_0 -_0 )\n",
      "+ 0.3492868613660089 * ( +_1 +_1 -_1 -_1 )\n",
      "+ 0.3322908651276482 * ( +_1 +_2 -_2 -_1 )\n",
      "+ 0.09046559989211574 * ( +_1 +_2 -_3 -_0 )\n",
      "+ 0.09046559989211565 * ( +_1 +_3 -_2 -_0 )\n",
      "+ 0.3492868613660089 * ( +_1 +_3 -_3 -_1 )\n",
      "+ 0.33785507740175813 * ( +_2 +_0 -_0 -_2 )\n",
      "+ 0.09046559989211568 * ( +_2 +_0 -_1 -_3 )\n",
      "+ 0.09046559989211564 * ( +_2 +_1 -_0 -_3 )\n",
      "+ 0.33229086512764827 * ( +_2 +_1 -_1 -_2 )\n",
      "+ 0.33785507740175813 * ( +_2 +_2 -_2 -_2 )\n",
      "+ 0.09046559989211568 * ( +_2 +_2 -_3 -_3 )\n",
      "+ 0.09046559989211564 * ( +_2 +_3 -_2 -_3 )\n",
      "+ 0.33229086512764827 * ( +_2 +_3 -_3 -_2 )\n",
      "+ 0.3322908651276482 * ( +_3 +_0 -_0 -_3 )\n",
      "+ 0.09046559989211574 * ( +_3 +_0 -_1 -_2 )\n",
      "+ 0.09046559989211565 * ( +_3 +_1 -_0 -_2 )\n",
      "+ 0.3492868613660089 * ( +_3 +_1 -_1 -_3 )\n",
      "+ 0.3322908651276482 * ( +_3 +_2 -_2 -_3 )\n",
      "+ 0.09046559989211574 * ( +_3 +_2 -_3 -_2 )\n",
      "+ 0.09046559989211565 * ( +_3 +_3 -_2 -_2 )\n",
      "+ 0.3492868613660089 * ( +_3 +_3 -_3 -_3 )\n"
     ]
    }
   ],
   "source": [
    "# Apply second-quantization transformation to Electronic Hamiltonian:\n",
    "\n",
    "sq_h2_op = h2_Hamiltonian.second_q_op()\n",
    "print(sq_h2_op)\n",
    "#print(\"\\n\")\n",
    "#print(diHydro_prob.basis)\n",
    "#print(diHydro_prob.num_particles)\n",
    "\n",
    "# This Second-Quantized Electronic Hamiltonian does NOT contain the nuclei repulsive/attractive terms!"
   ]
  },
  {
   "cell_type": "code",
   "execution_count": 94,
   "metadata": {},
   "outputs": [
    {
     "data": {
      "text/plain": [
       "'\\nTime Evolution Approach:\\n\\n1. Obtain the PauliEvolutionGate equivalent to all Pauli Strings derived from the transformation of the Second Quantized Electronic Hamiltonian into the Qubit Space.\\n2. Utilizing composition techiques, obtain an efficient composition of all unitary evolution operators derived from the PauliEvolutionGate components.\\n3. \\n\\n'"
      ]
     },
     "execution_count": 94,
     "metadata": {},
     "output_type": "execute_result"
    }
   ],
   "source": [
    "'''\n",
    "Approach:\n",
    "\n",
    "1. Employ the BogoliubovTransform method to obtain a new set of fermionic operators\n",
    "that exhibit raising/lowering, as in the second quantization format.\n",
    "2. Following conversion to Plane-wave basis, convert all Hamiltonian summands to Plane-wave dual basis.\n",
    "3. Upon obtaining the Plane-wave dual basis, apply a Jordan-Wigner mapping to convert the Hamiltonian from\n",
    "Fermionic space to a valid qubit space for manipulation purposes.\n",
    "4. Apply general product formula to the converted Electronic Hamiltonian and \n",
    "\n",
    "Alternative Approach: No Plane-wave conversion is necessary.\n",
    "\n",
    "1. Apply Jordan-Wigner mapping to second-quantized electronic structure, taking care of the individual summand terms so as to properly exponetiate \n",
    "the operators according to the generalized product formula.\n",
    "* Do this via the following manner:\n",
    "\n",
    "    - Obtain the complete summation of the (T + U) term (i.e., Kinetic and Attraction operators), deriving a representative unitary operator from its first-body integral coefficient.\n",
    "    - Obtain the complete summation of the (V) term (i.e., Repulsive/electron-electron operators) through the second-body coefficient and associated ladder operators.\n",
    "\n",
    "* If there exists no method to obtain a concrete decoposition of the energy operators within the Electronic Structure format, then simply convert to \n",
    "the qubit space via the Jordan-Wigner Transformation/Mapper and attempt the following:\n",
    "\n",
    "    - Use class decomposition methods to obtain the appropriate Hamiltonian operator summands in a palatable/clean format.\n",
    "    - If no such method is found, employ a Shannon Unitary Decomposition algorithm to obtain approximate summands and employ within product formula.\n",
    "\n",
    "2. Implement the generalized product formula presented within 'A Theory of Trotter Error':\n",
    "* Keep in mind the following parameters prior to implementing the decomposition:\n",
    "\n",
    "    - Stage is arbitrary, but influences the efficiency/error bound of the algorithm; it can be set to 1 if need be for the purposes of correctness over efficiency.\n",
    "    - Take the exponentiation of the individual Pauli strings, along with their associated coefficients. These will act as your \"decomposed\" operators.\n",
    "    - \n",
    "\n",
    "\n",
    "Prerequisities:\n",
    "\n",
    "1. Must generate appropriate code for Fermionic Fast Fourier Transform, using the Wiebe paper as a base.\n",
    "    - Not a necessarily a requirement for properly converting Hamiltonian into palatable format for circuit modeling.\n",
    "    - Attempt to simply convert all operators to Plane-wave dual basis first; worry about everything else later.\n",
    "\n",
    "'''\n",
    "'''\n",
    "Time Evolution Approach:\n",
    "\n",
    "1. Obtain the PauliEvolutionGate equivalent to all Pauli Strings derived from the transformation of the Second Quantized Electronic Hamiltonian into the Qubit Space.\n",
    "2. Utilizing composition techiques, obtain an efficient composition of all unitary evolution operators derived from the PauliEvolutionGate components.\n",
    "3. \n",
    "\n",
    "'''"
   ]
  },
  {
   "cell_type": "code",
   "execution_count": 95,
   "metadata": {},
   "outputs": [
    {
     "name": "stdout",
     "output_type": "stream",
     "text": [
      "-0.8105479805373275 * IIII\n",
      "+ 0.1721839326191556 * IIIZ\n",
      "- 0.2257534922240239 * IIZI\n",
      "+ 0.17218393261915554 * IZII\n",
      "- 0.2257534922240239 * ZIII\n",
      "+ 0.12091263261776629 * IIZZ\n",
      "+ 0.16892753870087907 * IZIZ\n",
      "+ 0.04523279994605784 * YYYY\n",
      "+ 0.04523279994605784 * XXYY\n",
      "+ 0.04523279994605784 * YYXX\n",
      "+ 0.04523279994605784 * XXXX\n",
      "+ 0.16614543256382414 * ZIIZ\n",
      "+ 0.16614543256382414 * IZZI\n",
      "+ 0.17464343068300445 * ZIZI\n",
      "+ 0.12091263261776629 * ZZII\n"
     ]
    }
   ],
   "source": [
    "# Set up Jordan-Wigner Mapper/Transformer to bring Second Quantized Hamiltonian into qubit space:\n",
    "\n",
    "jw_map = JordanWignerMapper()\n",
    "\n",
    "# Apply mapper to Second Quantized Electronic Hamiltonian:\n",
    "\n",
    "qubit_h2_Ham = jw_map.map(sq_h2_op)\n",
    "print(qubit_h2_Ham)\n",
    "#print(qubit_h2_Ham[0])"
   ]
  },
  {
   "cell_type": "code",
   "execution_count": 96,
   "metadata": {},
   "outputs": [
    {
     "data": {
      "text/plain": [
       "'\\n# Place each Pauli String into a list for ease of exponentiation/formula ordering:\\n\\nfrom qiskit.quantum_info import PauliList, Pauli, SparsePauliOp\\n#from qiskit.opflow.primitive_ops.\\n\\nh2_Pauli_str = qubit_h2_Ham.primitive_strings()\\nprint(h2_Pauli_str)\\n'"
      ]
     },
     "execution_count": 96,
     "metadata": {},
     "output_type": "execute_result"
    }
   ],
   "source": [
    "'''\n",
    "# Place each Pauli String into a list for ease of exponentiation/formula ordering:\n",
    "\n",
    "from qiskit.quantum_info import PauliList, Pauli, SparsePauliOp\n",
    "#from qiskit.opflow.primitive_ops.\n",
    "\n",
    "h2_Pauli_str = qubit_h2_Ham.primitive_strings()\n",
    "print(h2_Pauli_str)\n",
    "'''"
   ]
  },
  {
   "cell_type": "code",
   "execution_count": 97,
   "metadata": {},
   "outputs": [
    {
     "data": {
      "image/png": "[encoded data removed]",
      "text/plain": [
       "<Figure size 203.885x367.889 with 1 Axes>"
      ]
     },
     "execution_count": 97,
     "metadata": {},
     "output_type": "execute_result"
    }
   ],
   "source": [
    "# Obtain the initial state from which to apply the time evolution of the converted Hamiltonian:\n",
    "\n",
    "initial_state = HartreeFock(diHydro_prob.num_spatial_orbitals, diHydro_prob.num_particles, jw_map,)\n",
    "\n",
    "# Draw the initial state to evolve:\n",
    "\n",
    "initial_state.draw('mpl')"
   ]
  },
  {
   "cell_type": "code",
   "execution_count": 98,
   "metadata": {},
   "outputs": [],
   "source": [
    "# Partition each qubit_h2_Ham list object into separate list of exponentiated summands:\n",
    "\n",
    "#evo_summand = list() # List of PauliEvolutionGate objects\n",
    "#target_time = 1.0 # Target time of real-time evolution.\n",
    "\n",
    "#for i in range(0, len(qubit_h2_Ham)):\n",
    "#    evo_summand.append(PauliEvolutionGate(qubit_h2_Ham[i]))\n"
   ]
  },
  {
   "cell_type": "code",
   "execution_count": 324,
   "metadata": {},
   "outputs": [
    {
     "name": "stdout",
     "output_type": "stream",
     "text": [
      "[EvolvedOp(PauliSumOp(SparsePauliOp(['IIII'],\n",
      "              coeffs=[-0.81054798+0.j]), coeff=1.0*t), coeff=1.0), EvolvedOp(PauliSumOp(SparsePauliOp(['IIIZ'],\n",
      "              coeffs=[0.17218393+0.j]), coeff=1.0*t), coeff=1.0), EvolvedOp(PauliSumOp(SparsePauliOp(['IIZI'],\n",
      "              coeffs=[-0.22575349+0.j]), coeff=1.0*t), coeff=1.0), EvolvedOp(PauliSumOp(SparsePauliOp(['IZII'],\n",
      "              coeffs=[0.17218393+0.j]), coeff=1.0*t), coeff=1.0), EvolvedOp(PauliSumOp(SparsePauliOp(['ZIII'],\n",
      "              coeffs=[-0.22575349+0.j]), coeff=1.0*t), coeff=1.0), EvolvedOp(PauliSumOp(SparsePauliOp(['IIZZ'],\n",
      "              coeffs=[0.12091263+0.j]), coeff=1.0*t), coeff=1.0), EvolvedOp(PauliSumOp(SparsePauliOp(['IZIZ'],\n",
      "              coeffs=[0.16892754+0.j]), coeff=1.0*t), coeff=1.0), EvolvedOp(PauliSumOp(SparsePauliOp(['YYYY'],\n",
      "              coeffs=[0.0452328+0.j]), coeff=1.0*t), coeff=1.0), EvolvedOp(PauliSumOp(SparsePauliOp(['XXYY'],\n",
      "              coeffs=[0.0452328+0.j]), coeff=1.0*t), coeff=1.0), EvolvedOp(PauliSumOp(SparsePauliOp(['YYXX'],\n",
      "              coeffs=[0.0452328+0.j]), coeff=1.0*t), coeff=1.0), EvolvedOp(PauliSumOp(SparsePauliOp(['XXXX'],\n",
      "              coeffs=[0.0452328+0.j]), coeff=1.0*t), coeff=1.0), EvolvedOp(PauliSumOp(SparsePauliOp(['ZIIZ'],\n",
      "              coeffs=[0.16614543+0.j]), coeff=1.0*t), coeff=1.0), EvolvedOp(PauliSumOp(SparsePauliOp(['IZZI'],\n",
      "              coeffs=[0.16614543+0.j]), coeff=1.0*t), coeff=1.0), EvolvedOp(PauliSumOp(SparsePauliOp(['ZIZI'],\n",
      "              coeffs=[0.17464343+0.j]), coeff=1.0*t), coeff=1.0), EvolvedOp(PauliSumOp(SparsePauliOp(['ZZII'],\n",
      "              coeffs=[0.12091263+0.j]), coeff=1.0*t), coeff=1.0)]\n"
     ]
    }
   ],
   "source": [
    "# Partition each qubit_h2_Ham list object into separate list of exponentiated summands:\n",
    "\n",
    "exp_summand = list()\n",
    "Qubit_Ham_Op = list()\n",
    "evo_time = Parameter('t')\n",
    "\n",
    "for i in range(0, len(qubit_h2_Ham)):\n",
    "    exp_summand.append((evo_time*qubit_h2_Ham[i]).exp_i()) # Append summand to exp_summand\n",
    "    #print(exp_summand[i])\n",
    "    #Qubit_Ham_Op.append(PauliEvolutionGate(exp_summand[i], time=))\n",
    "    #Qubit_Ham_Op.append(exp_summand[i].to_circuit()) # Convert summand to valid QuantumCircuit object and append to Qubit_Ham_Op\n",
    "\n",
    "#for i in range(0, len(qubit_h2_Ham)):\n",
    "#    Qubit_Ham_Op.append(Quantumhamiltonian())\n",
    "#h2_Pauli_List = SparsePauliOp.to_list(exp_summand)\n",
    "#Qubit_Ham_Op[0].draw()\n",
    "#print(Qubit_Ham_Op[0].width()) # Check the appropriate \n",
    "#print(Qubit_Ham_Op)\n",
    "#Qubit_Ham_Op[0].draw('mpl')\n",
    "\n",
    "#Qubit_Ham_Op[0].decompose().draw('mpl')\n",
    "\n",
    "print(exp_summand)\n",
    "\n"
   ]
  },
  {
   "cell_type": "code",
   "execution_count": 100,
   "metadata": {},
   "outputs": [],
   "source": [
    "# Generate valid Quantum Circuit representative of Generalized Product Formula structure:\n",
    "\n",
    "for i in range(0, len(Qubit_Ham_Op) - 1):\n",
    "    Qubit_Ham_Op[i+1] = Qubit_Ham_Op[i].compose(Qubit_Ham_Op[i+1])\n",
    "\n",
    "Product_Formula_Circ = Qubit_Ham_Op[len(Qubit_Ham_Op) - 1]\n",
    "\n",
    "#Qubit_Ham_Op.draw('mpl')\n",
    "#Qubit_Ham_Op[14].draw()\n"
   ]
  },
  {
   "cell_type": "code",
   "execution_count": 101,
   "metadata": {},
   "outputs": [],
   "source": [
    "# Append Classical Register to Product Formula circuit:\n",
    "\n",
    "#class_reg = ClassicalRegister(Product_Formula_Circ.width())\n",
    "\n",
    "#Product_Formula_Circ.add_register(class_reg)\n",
    "\n",
    "# (Optional) Visualize constructed Product Formula circuit:\n",
    "\n",
    "#Product_Formula_Circ.draw('mpl')\n"
   ]
  },
  {
   "cell_type": "code",
   "execution_count": 102,
   "metadata": {},
   "outputs": [],
   "source": [
    "# Invoke simulator to compile the circuit:\n",
    "\n",
    "backend = Aer.get_backend('aer_simulator')\n",
    "\n",
    "circ = transpile(Product_Formula_Circ, backend)"
   ]
  },
  {
   "cell_type": "code",
   "execution_count": 103,
   "metadata": {},
   "outputs": [
    {
     "name": "stdout",
     "output_type": "stream",
     "text": [
      "Operator([[ 1.00000000e+00-1.12264296e-14j,\n",
      "           -9.85527120e-16+1.77508051e-17j,\n",
      "            1.28253682e-16-2.25209995e-15j,\n",
      "           -2.31343311e-15+1.57009246e-16j,\n",
      "           -9.81307787e-16+7.26167762e-16j,\n",
      "           -1.50871222e-15-3.81444498e-16j,\n",
      "            1.70696790e-15-9.57567359e-16j,\n",
      "           -2.00186788e-15+2.19812944e-15j,\n",
      "           -8.32667268e-16+4.05231404e-15j,\n",
      "           -1.07552856e-16-1.00613962e-16j,\n",
      "           -7.84687592e-17+2.37268878e-18j,\n",
      "            8.54998766e-17+8.92487770e-17j,\n",
      "            7.85046229e-17-3.14018492e-16j,\n",
      "            1.25998185e-16-5.43990575e-17j,\n",
      "            1.25730060e-16+7.05314972e-17j,\n",
      "            1.17756934e-16-7.85046229e-17j],\n",
      "          [ 7.98152876e-16+3.65648532e-16j,\n",
      "            3.09300384e-01+9.50964391e-01j,\n",
      "           -6.17703819e-16-1.45887419e-15j,\n",
      "           -1.56335845e-15-1.05229520e-15j,\n",
      "           -2.17197763e-16+1.15800609e-16j,\n",
      "            1.41308321e-15+2.96845605e-16j,\n",
      "            3.46944695e-16-1.30451205e-15j,\n",
      "           -1.44328993e-15-2.77555756e-16j,\n",
      "           -2.74245349e-17-5.63737144e-17j,\n",
      "            0.00000000e+00+4.99600361e-16j,\n",
      "           -2.74766180e-16+8.27978445e-17j,\n",
      "           -3.33026576e-17+1.97358242e-16j,\n",
      "            2.29822169e-16+8.31733250e-17j,\n",
      "           -7.85046229e-17+1.96261557e-17j,\n",
      "           -3.49698918e-16-3.76288539e-17j,\n",
      "            3.72582798e-17-8.67135893e-17j],\n",
      "          [ 1.06424366e-15-2.46693552e-15j,\n",
      "            3.23829031e-16+8.75017196e-16j,\n",
      "            8.90708010e-01+4.54575890e-01j,\n",
      "           -1.17135584e-15-1.15881388e-15j,\n",
      "            6.52256027e-16-2.62290190e-15j,\n",
      "            2.08166817e-16+1.94289029e-16j,\n",
      "           -1.96261557e-15-1.00093394e-15j,\n",
      "            3.00988117e-16+4.64866980e-16j,\n",
      "           -2.53837123e-16+4.69456181e-17j,\n",
      "           -1.37383090e-16+2.01168096e-16j,\n",
      "            5.55111512e-17+4.85722573e-17j,\n",
      "            2.81170896e-16+6.64800759e-17j,\n",
      "            5.08976181e-17-4.71620328e-17j,\n",
      "           -2.39825864e-16+1.08706176e-16j,\n",
      "           -3.92523115e-17+1.57009246e-16j,\n",
      "           -8.50424263e-17+9.83770466e-17j],\n",
      "          [ 8.70596098e-16+1.91126235e-15j,\n",
      "           -1.89138846e-16+1.53725887e-15j,\n",
      "            6.58147362e-16+1.62806918e-15j,\n",
      "            3.20456892e-01+9.47263100e-01j,\n",
      "           -2.86309752e-15+3.03109044e-16j,\n",
      "           -6.52256027e-16+1.06858966e-15j,\n",
      "           -1.09229181e-15-4.08762300e-16j,\n",
      "            2.74766180e-16-1.19719550e-15j,\n",
      "           -2.92663873e-17-8.43630232e-17j,\n",
      "           -2.08035342e-17-3.86412074e-17j,\n",
      "            2.67147415e-16+1.00613962e-16j,\n",
      "            1.22124533e-15-1.66533454e-16j,\n",
      "           -5.76760347e-17+2.78673338e-16j,\n",
      "           -3.14841019e-17+2.34413157e-17j,\n",
      "            2.44853923e-16+1.38894486e-16j,\n",
      "           -1.96261557e-17-4.31775426e-16j],\n",
      "          [-6.65509705e-16+1.03525548e-15j,\n",
      "            3.27097787e-16+2.88194928e-16j,\n",
      "            2.99504242e-15-3.74352673e-16j,\n",
      "           -1.41051651e-15+1.33155406e-15j,\n",
      "            3.09300384e-01+9.50964391e-01j,\n",
      "           -1.97499698e-15-1.32921209e-16j,\n",
      "            1.18497919e-15-2.82717491e-15j,\n",
      "            8.67425535e-16+2.80560203e-16j,\n",
      "           -9.71862680e-17+4.21153219e-16j,\n",
      "           -1.51121807e-16+9.60986548e-17j,\n",
      "            1.01395536e-16-3.07854997e-16j,\n",
      "            2.98068266e-16+9.92935976e-17j,\n",
      "            6.48412256e-16-1.65471649e-15j,\n",
      "            1.83914715e-16-6.41575981e-17j,\n",
      "           -6.61789550e-17-3.47571277e-16j,\n",
      "           -1.95733322e-17-6.19206029e-17j],\n",
      "          [ 3.39494949e-16+1.25820800e-15j,\n",
      "            2.75912788e-15-9.00737044e-16j,\n",
      "           -3.25488216e-16+1.23959137e-15j,\n",
      "           -5.12269677e-16-1.06103255e-15j,\n",
      "           -1.87414313e-15+3.57506084e-16j,\n",
      "           -2.58746136e-01+9.49036353e-01j,\n",
      "           -3.72829053e-15-7.23616308e-16j,\n",
      "           -1.28950475e-15-1.17909200e-15j,\n",
      "           -3.49461952e-16-1.83310887e-16j,\n",
      "           -1.40938624e-16+3.33315977e-16j,\n",
      "            4.36850623e-02-1.74562460e-01j,\n",
      "           -2.00440601e-16+1.75756595e-16j,\n",
      "           -1.61737884e-16-2.26933192e-17j,\n",
      "           -1.77405378e-16-1.53138006e-15j,\n",
      "           -1.43390087e-18+4.19372151e-16j,\n",
      "           -6.41173143e-17+2.99397372e-17j],\n",
      "          [-1.49560376e-16-2.27078341e-15j,\n",
      "            8.24197960e-16+1.02591127e-15j,\n",
      "            7.36709864e-16+1.53184160e-15j,\n",
      "           -2.43010253e-16+6.89091784e-16j,\n",
      "            5.19180716e-16+4.36416947e-16j,\n",
      "           -3.82118633e-15+7.75809381e-16j,\n",
      "            4.77753806e-01+8.59866771e-01j,\n",
      "           -1.73981636e-15-2.95609896e-16j,\n",
      "            6.02109253e-18-1.96169175e-16j,\n",
      "            1.57296913e-01-8.73963287e-02j,\n",
      "            3.69034711e-16+2.77682444e-17j,\n",
      "            7.74641527e-17+1.70229378e-16j,\n",
      "           -3.71326092e-17+1.13459468e-16j,\n",
      "           -2.57946050e-17-1.36894240e-16j,\n",
      "            1.99329089e-16-2.10071844e-15j,\n",
      "           -4.99241249e-17+2.89391098e-16j],\n",
      "          [-1.72667518e-15+3.31349839e-15j,\n",
      "           -8.45070587e-16+1.00845319e-15j,\n",
      "           -7.10621525e-16-1.48969264e-16j,\n",
      "            1.06488197e-15+1.59202316e-15j,\n",
      "            1.03092333e-15-8.17920098e-16j,\n",
      "           -9.59537774e-16+2.91114134e-15j,\n",
      "           -9.80930352e-16+1.18701156e-15j,\n",
      "            3.98760271e-01+9.17055204e-01j,\n",
      "           -2.44373237e-17-2.27570015e-16j,\n",
      "            1.68878037e-16-9.29975273e-17j,\n",
      "           -2.72481278e-17-5.05424940e-16j,\n",
      "            4.16341877e-16-2.02997630e-16j,\n",
      "           -2.24566099e-16-1.08674782e-16j,\n",
      "            1.59457174e-16-1.34534109e-16j,\n",
      "           -8.88300567e-17-1.20832411e-16j,\n",
      "           -5.80537771e-17-1.36309979e-15j],\n",
      "          [-1.48038971e-15+4.82019127e-15j,\n",
      "           -2.37378653e-17+6.19409881e-18j,\n",
      "            3.28703007e-17+7.19639886e-17j,\n",
      "           -6.16178874e-17+4.64867554e-17j,\n",
      "           -4.12052116e-16-1.88460038e-16j,\n",
      "            7.99580626e-17+4.17583793e-17j,\n",
      "            7.28515996e-17-2.77797684e-16j,\n",
      "           -1.87095773e-16+3.38300658e-16j,\n",
      "            8.90708010e-01+4.54575890e-01j,\n",
      "            9.83851444e-17+5.30909842e-16j,\n",
      "           -1.24022732e-15-1.09813532e-15j,\n",
      "            2.85989701e-16-1.42422534e-16j,\n",
      "           -1.28989127e-15+1.50399339e-15j,\n",
      "            8.30578096e-16-8.58037327e-16j,\n",
      "            2.15318250e-15+2.23772552e-16j,\n",
      "           -2.65428227e-15+1.30566721e-15j],\n",
      "          [-2.33020431e-16+9.97763321e-17j,\n",
      "            7.34152269e-16-7.49587888e-16j,\n",
      "           -1.97358776e-17+2.01774014e-17j,\n",
      "            4.40665348e-16-7.81713859e-17j,\n",
      "            3.75490476e-16+2.77206978e-17j,\n",
      "            2.76512660e-16+3.27683964e-16j,\n",
      "            1.57296913e-01-8.73963287e-02j,\n",
      "            9.58790912e-17+1.70825508e-16j,\n",
      "           -8.57818435e-16-7.68125125e-16j,\n",
      "            4.77753806e-01+8.59866771e-01j,\n",
      "            2.40530302e-15+8.68690827e-16j,\n",
      "           -2.57999685e-15-6.68166048e-16j,\n",
      "            9.27117520e-16-4.29557612e-16j,\n",
      "            1.66515641e-15-6.87347137e-16j,\n",
      "            1.16622589e-15+2.95732016e-15j,\n",
      "           -1.66932987e-15+4.56545748e-17j],\n",
      "          [ 2.09673908e-16-1.38590600e-16j,\n",
      "           -4.42527713e-17-3.12308596e-16j,\n",
      "           -4.66029872e-17-5.36897008e-16j,\n",
      "           -3.08322549e-16+8.74267598e-17j,\n",
      "            2.96684758e-16+4.17249589e-16j,\n",
      "            1.73608859e-01+4.73328774e-02j,\n",
      "           -2.24513808e-16+5.46064896e-16j,\n",
      "           -7.60268688e-17+2.49799651e-16j,\n",
      "            1.85683425e-15-2.64707775e-16j,\n",
      "           -1.15770646e-15-2.35002098e-15j,\n",
      "            9.54249234e-01+2.38805280e-01j,\n",
      "           -1.41475553e-15-1.14428232e-15j,\n",
      "            2.73550161e-17-3.06639809e-15j,\n",
      "           -2.34311396e-15-1.65497142e-15j,\n",
      "           -1.75563656e-15-8.45975244e-16j,\n",
      "           -3.08040088e-16-1.83672579e-15j],\n",
      "          [-3.42941349e-17-3.36756047e-17j,\n",
      "            3.55363245e-17+4.26457214e-17j,\n",
      "           -2.52196847e-16-2.42180817e-16j,\n",
      "            6.53804390e-16-8.83175365e-17j,\n",
      "            5.60154595e-16-4.32398677e-16j,\n",
      "           -1.23159847e-17+1.45784535e-16j,\n",
      "            2.24781377e-16-3.04727447e-16j,\n",
      "            1.66609902e-16-3.94936523e-16j,\n",
      "            2.34543174e-17-7.49547489e-16j,\n",
      "            2.00248095e-15+2.03456384e-15j,\n",
      "            1.76231295e-15-2.43182676e-16j,\n",
      "            9.38227351e-01+3.46019418e-01j,\n",
      "           -1.50795735e-15+1.17503587e-15j,\n",
      "            2.05898833e-16+1.25145610e-15j,\n",
      "            2.04960926e-15+1.31282811e-16j,\n",
      "           -3.28652904e-16-7.12130109e-16j],\n",
      "          [ 6.63648545e-17-3.49900314e-16j,\n",
      "            1.02150187e-16-5.63096638e-17j,\n",
      "            2.14306191e-17+4.52154563e-17j,\n",
      "           -1.97725132e-16+5.37591389e-17j,\n",
      "            1.63757896e-15+1.27675648e-15j,\n",
      "            2.72780885e-16+1.30343800e-16j,\n",
      "           -3.35992437e-17-1.87549647e-16j,\n",
      "           -1.59267039e-16+4.39951512e-17j,\n",
      "           -7.84131228e-16+9.35640320e-16j,\n",
      "            1.60785747e-15-8.88285016e-17j,\n",
      "            2.78450546e-15-4.08435962e-16j,\n",
      "           -9.80279445e-16+8.76278052e-16j,\n",
      "            3.20456892e-01+9.47263100e-01j,\n",
      "           -1.10349216e-15+6.40634492e-16j,\n",
      "           -1.03992360e-15-3.27124030e-15j,\n",
      "            1.87329810e-15+3.15697419e-15j],\n",
      "          [ 2.77775789e-16-6.92599295e-17j,\n",
      "           -4.45167113e-17+8.57847460e-17j,\n",
      "           -2.73446132e-16+9.91243034e-16j,\n",
      "            7.30404234e-17-3.55162865e-17j,\n",
      "            2.47602221e-16-8.00852794e-17j,\n",
      "            1.42941214e-15+1.83186799e-15j,\n",
      "           -1.54943698e-16-3.88718697e-17j,\n",
      "           -1.19186069e-16+4.54839413e-17j,\n",
      "            8.71116049e-16-5.55642452e-16j,\n",
      "            1.14923212e-15-7.95568272e-16j,\n",
      "            2.10768902e-15+9.85322934e-16j,\n",
      "           -8.74867173e-16-2.18056136e-16j,\n",
      "           -9.98587546e-16-4.53528328e-16j,\n",
      "            3.98760271e-01+9.17055204e-01j,\n",
      "           -2.23382429e-17+3.26731019e-15j,\n",
      "           -2.58417301e-15-9.02813874e-16j],\n",
      "          [-4.54722430e-17+5.93082790e-17j,\n",
      "            5.42603220e-16-2.48754468e-16j,\n",
      "            4.56779536e-17-4.29800802e-16j,\n",
      "           -9.70944461e-17+8.52028554e-17j,\n",
      "           -1.57403169e-17+1.95875312e-16j,\n",
      "            8.44445782e-17-1.45506399e-17j,\n",
      "            1.38777878e-15+5.55111512e-16j,\n",
      "            8.20131549e-17+5.09563250e-17j,\n",
      "           -2.04919029e-15-1.17372834e-15j,\n",
      "           -2.70616862e-15-2.59514632e-15j,\n",
      "            2.46708678e-15+7.39195266e-16j,\n",
      "           -1.68678810e-15-1.13863070e-15j,\n",
      "            1.71516995e-15+2.36880707e-15j,\n",
      "           -2.21895619e-15+1.21255870e-16j,\n",
      "            9.38227351e-01+3.46019418e-01j,\n",
      "           -1.30946503e-15+3.52145245e-16j],\n",
      "          [ 2.43799125e-16+3.53270803e-16j,\n",
      "           -5.39719283e-17-1.42289629e-16j,\n",
      "            4.39538582e-17-1.43183720e-16j,\n",
      "            2.72734558e-17-4.50576904e-16j,\n",
      "            1.11680258e-16+7.19945338e-17j,\n",
      "            2.11594375e-16-5.04115213e-16j,\n",
      "            1.91016733e-17+2.89626016e-17j,\n",
      "            1.27675648e-15-7.21644966e-16j,\n",
      "            1.47196168e-15+1.45233552e-15j,\n",
      "            9.31099897e-16+6.95906195e-16j,\n",
      "            1.85631982e-16-2.08061909e-15j,\n",
      "            2.22309210e-15-1.32042975e-15j,\n",
      "           -3.03401817e-15-1.35991665e-16j,\n",
      "            3.52634879e-15+2.63708514e-16j,\n",
      "            1.40903221e-15+3.61980951e-16j,\n",
      "            9.77130126e-01-2.12642229e-01j]],\n",
      "         input_dims=(2, 2, 2, 2), output_dims=(2, 2, 2, 2))\n"
     ]
    }
   ],
   "source": [
    "# Convert constructed Product Formula circuit to operator for the purposes of algorithmic manipulation via eigensolver:\n",
    "\n",
    "Product_Formula_Op = Operator.from_circuit(Product_Formula_Circ)\n",
    "print(Product_Formula_Op)\n",
    "#Product_Formula_Op.draw()"
   ]
  },
  {
   "cell_type": "code",
   "execution_count": 292,
   "metadata": {},
   "outputs": [
    {
     "name": "stdout",
     "output_type": "stream",
     "text": [
      "[(array([-1.83696799+0.j, -1.83696799+0.j, -1.83696799+0.j, -1.83696799+0.j,\n",
      "       -1.83696799+0.j, -1.83696799+0.j, -1.83696799+0.j, -1.83696799+0.j,\n",
      "       -1.83696799+0.j, -1.83696799+0.j, -1.83696799+0.j]), array([0., 0., 0., 0., 0., 0., 0., 0., 0., 0., 0.])), (array([ 0.        +0.j, -0.04372484+0.j, -0.15721042+0.j, -0.29454595+0.j,\n",
      "       -0.40017214+0.j, -0.43135773+0.j, -0.37548656+0.j, -0.25516138+0.j,\n",
      "       -0.11905995+0.j, -0.02224231+0.j, -0.00387619+0.j]), array([0., 0., 0., 0., 0., 0., 0., 0., 0., 0., 0.])), (array([ 0.        +0.j, -0.04372484+0.j, -0.15721042+0.j, -0.29454595+0.j,\n",
      "       -0.40017214+0.j, -0.43135773+0.j, -0.37548656+0.j, -0.25516138+0.j,\n",
      "       -0.11905995+0.j, -0.02224231+0.j, -0.00387619+0.j]), array([0., 0., 0., 0., 0., 0., 0., 0., 0., 0., 0.])), (array([1.+0.j, 1.+0.j, 1.+0.j, 1.+0.j, 1.+0.j, 1.+0.j, 1.+0.j, 1.+0.j,\n",
      "       1.+0.j, 1.+0.j, 1.+0.j]), array([0., 0., 0., 0., 0., 0., 0., 0., 0., 0., 0.]))]\n"
     ]
    }
   ],
   "source": [
    "# Invoke SciPyRealEvolver algorithm to simulate Real Time Evolution for Dihydrogen molecule using a Generalized Product Formula method:\n",
    "\n",
    "Time = 150 # Configure desired time for evolution.\n",
    "\n",
    "evolution_problem = TimeEvolutionProblem(qubit_h2_Ham, Time, initial_state, aux_operators = [qubit_h2_Ham, Pauli(\"YYXX\"), Pauli(\"YYYY\"), Pauli(\"IIII\")])\n",
    "#evolution_problem = TimeEvolutionProblem(Product_Formula_Op, Time, initial_state, aux_operators = )\n",
    "\n",
    "rt_evolver = SciPyRealEvolver(10) # Time Steps employed specified within argument of SciPyRealEvolver().\n",
    "\n",
    "# Perform Real Time Evolution for time specified and product formula employed:\n",
    "\n",
    "result = rt_evolver.evolve(evolution_problem)\n",
    "\n",
    "print(result.observables)\n"
   ]
  },
  {
   "cell_type": "code",
   "execution_count": 293,
   "metadata": {},
   "outputs": [
    {
     "data": {
      "text/latex": [
       "$$(-0.5333124621 + 0.8456578612 i) |0101\\rangle+(-0.0166447179 - 0.0127887792 i) |1010\\rangle$$"
      ],
      "text/plain": [
       "<IPython.core.display.Latex object>"
      ]
     },
     "execution_count": 293,
     "metadata": {},
     "output_type": "execute_result"
    }
   ],
   "source": [
    "# Inspect the associated attributes of the Real Time Evolution:\n",
    "\n",
    "#from qiskit.algorithms.minimum_eigensolvers import MinimumEigensolver\n",
    "\n",
    "result.evolved_state.draw('latex')\n",
    "\n",
    "#me = MinimumEigensolver()\n",
    "\n",
    "#print(MinimumEigensolver.compute_minimum_eigenvalue(Product_Formula_Op))\n"
   ]
  },
  {
   "attachments": {},
   "cell_type": "markdown",
   "metadata": {},
   "source": [
    "Dihydrogen Electronic Hamiltonian - Evolution Attributes:"
   ]
  },
  {
   "cell_type": "code",
   "execution_count": 297,
   "metadata": {},
   "outputs": [
    {
     "data": {
      "text/plain": [
       "Text(0.5, 1.0, 'Energy of Dihydrogen over Trotterization Evolution')"
      ]
     },
     "execution_count": 297,
     "metadata": {},
     "output_type": "execute_result"
    },
    {
     "data": {
      "image/png": "[encoded data removed]",
      "text/plain": [
       "<Figure size 640x480 with 1 Axes>"
      ]
     },
     "metadata": {},
     "output_type": "display_data"
    }
   ],
   "source": [
    "# Graph the energy variation over the specified time interval:\n",
    "\n",
    "energies = np.real(result.observables)[:, 0]\n",
    "\n",
    "plt.plot(result.times, energies[0], color=\"royalblue\")\n",
    "plt.xlabel(\"Time (s)\")\n",
    "plt.ylabel(\"Energy (Hartree)\")\n",
    "plt.title(\"Energy of Dihydrogen over Trotterization Evolution\")"
   ]
  },
  {
   "attachments": {},
   "cell_type": "markdown",
   "metadata": {},
   "source": [
    "Built-in Trotterization Demonstration (TrotterQRTE):"
   ]
  },
  {
   "cell_type": "code",
   "execution_count": 317,
   "metadata": {},
   "outputs": [
    {
     "name": "stdout",
     "output_type": "stream",
     "text": [
      "[[(-1.8369679912029837, {})], [(-1.8238109696861526, {})], [(-1.8318794612858875, {})]]\n",
      "\n",
      "\n",
      "None\n",
      "[(-1.8318794612858875, {})]\n",
      "-0.8105479805373147\n"
     ]
    }
   ],
   "source": [
    "# Comparison with built-in Trotter Evolution methods:\n",
    "\n",
    "from qiskit.synthesis import LieTrotter\n",
    "\n",
    "LieTrot = LieTrotter(3, 4, \"chain\")\n",
    "\n",
    "LieTrotter_Op = LieTrot.synthesize(PauliEvolutionGate(qubit_h2_Ham))\n",
    "\n",
    "#example_Ham = PauliSumOp(SparsePauliOp([Pauli(\"XXXX\"), Pauli(\"YXYX\")]))\n",
    "\n",
    "\n",
    "#Trotter_op = Operator.from_circuit(qubit_h2_Ham.exp_i().to_circuit())\n",
    "\n",
    "trotter_evo_prob = TimeEvolutionProblem(qubit_h2_Ham, 4, initial_state, aux_operators= [qubit_h2_Ham])\n",
    "# LieTrotter with 1 rep:\n",
    "estimator = Estimator()\n",
    "trotter_qrte = TrotterQRTE(LieTrot, estimator, 2)\n",
    "trotter_qrte_result = trotter_qrte.evolve(trotter_evo_prob)\n",
    "\n",
    "evolved_trotter = trotter_qrte_result.evolved_state\n",
    "evolved_estimator = trotter_qrte_result.aux_ops_evaluated\n",
    "#evolved_trotter.decompose().draw('mpl')\n",
    "#print(trotter_qrte.supports_aux_operators())\n",
    "print(trotter_qrte_result.observables)\n",
    "print(\"\\n\")\n",
    "print(trotter_qrte_result.times)\n",
    "print(evolved_estimator)\n",
    "\n",
    "result = estimator.run([evolved_trotter], [qubit_h2_Ham[0]]).result()\n",
    "\n",
    "print(result.values[0])"
   ]
  },
  {
   "cell_type": "code",
   "execution_count": 315,
   "metadata": {},
   "outputs": [
    {
     "name": "stdout",
     "output_type": "stream",
     "text": [
      "[[(-1.8369679912029837, {})], [(-1.8238109696861526, {})], [(-1.8318794612858875, {})]]\n"
     ]
    },
    {
     "ename": "ValueError",
     "evalue": "x, y, and format string must not be None",
     "output_type": "error",
     "traceback": [
      "\u001b[0;31m---------------------------------------------------------------------------\u001b[0m",
      "\u001b[0;31mValueError\u001b[0m                                Traceback (most recent call last)",
      "\u001b[1;32m/home/ssr/desktop/PNNL/First-Order_Product-Formulas.ipynb Cell 23\u001b[0m in \u001b[0;36m5\n\u001b[1;32m      <a href='vscode-notebook-cell://wsl%2Bubuntu/home/ssr/desktop/PNNL/First-Order_Product-Formulas.ipynb#X30sdnNjb2RlLXJlbW90ZQ%3D%3D?line=0'>1</a>\u001b[0m \u001b[39mprint\u001b[39m(trotter_qrte_result\u001b[39m.\u001b[39mobservables)\n\u001b[1;32m      <a href='vscode-notebook-cell://wsl%2Bubuntu/home/ssr/desktop/PNNL/First-Order_Product-Formulas.ipynb#X30sdnNjb2RlLXJlbW90ZQ%3D%3D?line=2'>3</a>\u001b[0m trotter_energies \u001b[39m=\u001b[39m np\u001b[39m.\u001b[39mreal(trotter_qrte_result\u001b[39m.\u001b[39mobservables)[:, \u001b[39m0\u001b[39m]\n\u001b[0;32m----> <a href='vscode-notebook-cell://wsl%2Bubuntu/home/ssr/desktop/PNNL/First-Order_Product-Formulas.ipynb#X30sdnNjb2RlLXJlbW90ZQ%3D%3D?line=4'>5</a>\u001b[0m plt\u001b[39m.\u001b[39;49mplot(trotter_qrte_result\u001b[39m.\u001b[39;49mtimes, trotter_energies[\u001b[39m0\u001b[39;49m], color\u001b[39m=\u001b[39;49m\u001b[39m\"\u001b[39;49m\u001b[39mroyalblue\u001b[39;49m\u001b[39m\"\u001b[39;49m)\n\u001b[1;32m      <a href='vscode-notebook-cell://wsl%2Bubuntu/home/ssr/desktop/PNNL/First-Order_Product-Formulas.ipynb#X30sdnNjb2RlLXJlbW90ZQ%3D%3D?line=5'>6</a>\u001b[0m plt\u001b[39m.\u001b[39mxlabel(\u001b[39m\"\u001b[39m\u001b[39mTime (s)\u001b[39m\u001b[39m\"\u001b[39m)\n\u001b[1;32m      <a href='vscode-notebook-cell://wsl%2Bubuntu/home/ssr/desktop/PNNL/First-Order_Product-Formulas.ipynb#X30sdnNjb2RlLXJlbW90ZQ%3D%3D?line=6'>7</a>\u001b[0m plt\u001b[39m.\u001b[39mylabel(\u001b[39m\"\u001b[39m\u001b[39mEnergy (Hartree)\u001b[39m\u001b[39m\"\u001b[39m)\n",
      "File \u001b[0;32m~/.local/lib/python3.8/site-packages/matplotlib/pyplot.py:2728\u001b[0m, in \u001b[0;36mplot\u001b[0;34m(scalex, scaley, data, *args, **kwargs)\u001b[0m\n\u001b[1;32m   2726\u001b[0m \u001b[39m@_copy_docstring_and_deprecators\u001b[39m(Axes\u001b[39m.\u001b[39mplot)\n\u001b[1;32m   2727\u001b[0m \u001b[39mdef\u001b[39;00m \u001b[39mplot\u001b[39m(\u001b[39m*\u001b[39margs, scalex\u001b[39m=\u001b[39m\u001b[39mTrue\u001b[39;00m, scaley\u001b[39m=\u001b[39m\u001b[39mTrue\u001b[39;00m, data\u001b[39m=\u001b[39m\u001b[39mNone\u001b[39;00m, \u001b[39m*\u001b[39m\u001b[39m*\u001b[39mkwargs):\n\u001b[0;32m-> 2728\u001b[0m     \u001b[39mreturn\u001b[39;00m gca()\u001b[39m.\u001b[39;49mplot(\n\u001b[1;32m   2729\u001b[0m         \u001b[39m*\u001b[39;49margs, scalex\u001b[39m=\u001b[39;49mscalex, scaley\u001b[39m=\u001b[39;49mscaley,\n\u001b[1;32m   2730\u001b[0m         \u001b[39m*\u001b[39;49m\u001b[39m*\u001b[39;49m({\u001b[39m\"\u001b[39;49m\u001b[39mdata\u001b[39;49m\u001b[39m\"\u001b[39;49m: data} \u001b[39mif\u001b[39;49;00m data \u001b[39mis\u001b[39;49;00m \u001b[39mnot\u001b[39;49;00m \u001b[39mNone\u001b[39;49;00m \u001b[39melse\u001b[39;49;00m {}), \u001b[39m*\u001b[39;49m\u001b[39m*\u001b[39;49mkwargs)\n",
      "File \u001b[0;32m~/.local/lib/python3.8/site-packages/matplotlib/axes/_axes.py:1662\u001b[0m, in \u001b[0;36mAxes.plot\u001b[0;34m(self, scalex, scaley, data, *args, **kwargs)\u001b[0m\n\u001b[1;32m   1419\u001b[0m \u001b[39m\"\"\"\u001b[39;00m\n\u001b[1;32m   1420\u001b[0m \u001b[39mPlot y versus x as lines and/or markers.\u001b[39;00m\n\u001b[1;32m   1421\u001b[0m \n\u001b[0;32m   (...)\u001b[0m\n\u001b[1;32m   1659\u001b[0m \u001b[39m(``'green'``) or hex strings (``'#008000'``).\u001b[39;00m\n\u001b[1;32m   1660\u001b[0m \u001b[39m\"\"\"\u001b[39;00m\n\u001b[1;32m   1661\u001b[0m kwargs \u001b[39m=\u001b[39m cbook\u001b[39m.\u001b[39mnormalize_kwargs(kwargs, mlines\u001b[39m.\u001b[39mLine2D)\n\u001b[0;32m-> 1662\u001b[0m lines \u001b[39m=\u001b[39m [\u001b[39m*\u001b[39m\u001b[39mself\u001b[39m\u001b[39m.\u001b[39m_get_lines(\u001b[39m*\u001b[39margs, data\u001b[39m=\u001b[39mdata, \u001b[39m*\u001b[39m\u001b[39m*\u001b[39mkwargs)]\n\u001b[1;32m   1663\u001b[0m \u001b[39mfor\u001b[39;00m line \u001b[39min\u001b[39;00m lines:\n\u001b[1;32m   1664\u001b[0m     \u001b[39mself\u001b[39m\u001b[39m.\u001b[39madd_line(line)\n",
      "File \u001b[0;32m~/.local/lib/python3.8/site-packages/matplotlib/axes/_base.py:311\u001b[0m, in \u001b[0;36m_process_plot_var_args.__call__\u001b[0;34m(self, data, *args, **kwargs)\u001b[0m\n\u001b[1;32m    309\u001b[0m     this \u001b[39m+\u001b[39m\u001b[39m=\u001b[39m args[\u001b[39m0\u001b[39m],\n\u001b[1;32m    310\u001b[0m     args \u001b[39m=\u001b[39m args[\u001b[39m1\u001b[39m:]\n\u001b[0;32m--> 311\u001b[0m \u001b[39myield from\u001b[39;00m \u001b[39mself\u001b[39;49m\u001b[39m.\u001b[39;49m_plot_args(\n\u001b[1;32m    312\u001b[0m     this, kwargs, ambiguous_fmt_datakey\u001b[39m=\u001b[39;49mambiguous_fmt_datakey)\n",
      "File \u001b[0;32m~/.local/lib/python3.8/site-packages/matplotlib/axes/_base.py:465\u001b[0m, in \u001b[0;36m_process_plot_var_args._plot_args\u001b[0;34m(self, tup, kwargs, return_kwargs, ambiguous_fmt_datakey)\u001b[0m\n\u001b[1;32m    462\u001b[0m \u001b[39m# Don't allow any None value; these would be up-converted to one\u001b[39;00m\n\u001b[1;32m    463\u001b[0m \u001b[39m# element array of None which causes problems downstream.\u001b[39;00m\n\u001b[1;32m    464\u001b[0m \u001b[39mif\u001b[39;00m \u001b[39many\u001b[39m(v \u001b[39mis\u001b[39;00m \u001b[39mNone\u001b[39;00m \u001b[39mfor\u001b[39;00m v \u001b[39min\u001b[39;00m tup):\n\u001b[0;32m--> 465\u001b[0m     \u001b[39mraise\u001b[39;00m \u001b[39mValueError\u001b[39;00m(\u001b[39m\"\u001b[39m\u001b[39mx, y, and format string must not be None\u001b[39m\u001b[39m\"\u001b[39m)\n\u001b[1;32m    467\u001b[0m kw \u001b[39m=\u001b[39m {}\n\u001b[1;32m    468\u001b[0m \u001b[39mfor\u001b[39;00m prop_name, val \u001b[39min\u001b[39;00m \u001b[39mzip\u001b[39m((\u001b[39m'\u001b[39m\u001b[39mlinestyle\u001b[39m\u001b[39m'\u001b[39m, \u001b[39m'\u001b[39m\u001b[39mmarker\u001b[39m\u001b[39m'\u001b[39m, \u001b[39m'\u001b[39m\u001b[39mcolor\u001b[39m\u001b[39m'\u001b[39m),\n\u001b[1;32m    469\u001b[0m                           (linestyle, marker, color)):\n",
      "\u001b[0;31mValueError\u001b[0m: x, y, and format string must not be None"
     ]
    },
    {
     "data": {
      "image/png": "[encoded data removed]",
      "text/plain": [
       "<Figure size 640x480 with 1 Axes>"
      ]
     },
     "metadata": {},
     "output_type": "display_data"
    }
   ],
   "source": [
    "print(trotter_qrte_result.observables)\n",
    "\n",
    "trotter_energies = np.real(trotter_qrte_result.observables)[:, 0]\n",
    "\n",
    "plt.plot(trotter_qrte_result.times, trotter_energies[0], color=\"royalblue\")\n",
    "plt.xlabel(\"Time (s)\")\n",
    "plt.ylabel(\"Energy (Hartree)\")\n",
    "plt.title(\"Energy of Dihydrogen over Trotterization Evolution\")\n"
   ]
  },
  {
   "cell_type": "code",
   "execution_count": null,
   "metadata": {},
   "outputs": [],
   "source": [
    "# Comparison with "
   ]
  },
  {
   "cell_type": "code",
   "execution_count": null,
   "metadata": {},
   "outputs": [
    {
     "data": {
      "text/plain": [
       "'# Invoke estimator component of a Variational Quantum Eigensolver method:\\n\\nestimator = Estimator()\\n\\n# Invoke SLSQP optimizer component of Variational Quantum Eigensolver method:\\n\\noptimizer = SLSQP(maxiter=1000)\\n\\n# Invoke appropriate ansatz for Variational Quantum Eigensolver method:\\n\\nansatz = TwoLocal(4, \"ry\", \"cz\")\\n\\n# Invoke compiled VQE object:\\n\\nvqe = VQE(estimator, ansatz, optimizer)'"
      ]
     },
     "execution_count": 26,
     "metadata": {},
     "output_type": "execute_result"
    }
   ],
   "source": [
    "'''# Invoke estimator component of a Variational Quantum Eigensolver method:\n",
    "\n",
    "estimator = Estimator()\n",
    "\n",
    "# Invoke SLSQP optimizer component of Variational Quantum Eigensolver method:\n",
    "\n",
    "optimizer = SLSQP(maxiter=1000)\n",
    "\n",
    "# Invoke appropriate ansatz for Variational Quantum Eigensolver method:\n",
    "\n",
    "ansatz = TwoLocal(4, \"ry\", \"cz\")\n",
    "\n",
    "# Invoke compiled VQE object:\n",
    "\n",
    "vqe = VQE(estimator, ansatz, optimizer)'''"
   ]
  },
  {
   "cell_type": "code",
   "execution_count": null,
   "metadata": {},
   "outputs": [],
   "source": [
    "#ansatz.draw()"
   ]
  },
  {
   "cell_type": "code",
   "execution_count": null,
   "metadata": {},
   "outputs": [],
   "source": [
    "# Compute the minimum eigenvalue/ground state energy using the VQE method \"comput_minimum_eigenvalue\":\n",
    "\n",
    "#result = vqe.compute_minimum_eigenvalue(Product_Formula_Op)\n",
    "#print(result)\n",
    "#result_qubit_h2_Ham = vqe.compute_minimum_eigenvalue(qubit_h2_Ham)\n",
    "#print(result_qubit_h2_Ham)"
   ]
  }
 ],
 "metadata": {
  "kernelspec": {
   "display_name": "Python 3",
   "language": "python",
   "name": "python3"
  },
  "language_info": {
   "codemirror_mode": {
    "name": "ipython",
    "version": 3
   },
   "file_extension": ".py",
   "mimetype": "text/x-python",
   "name": "python",
   "nbconvert_exporter": "python",
   "pygments_lexer": "ipython3",
   "version": "3.8.10"
  },
  "orig_nbformat": 4
 },
 "nbformat": 4,
 "nbformat_minor": 2
}
