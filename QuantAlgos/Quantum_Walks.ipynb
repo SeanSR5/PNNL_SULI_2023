{
 "cells": [
  {
   "cell_type": "code",
   "execution_count": 6,
   "metadata": {},
   "outputs": [],
   "source": [
    "import numpy as np\n",
    "import matplotlib.pyplot as plt\n",
    "import random as rand\n",
    "from qiskit_nature.units import DistanceUnit\n",
    "from qiskit_nature.second_q.drivers import PySCFDriver\n",
    "from qiskit.algorithms.minimum_eigensolvers import NumPyMinimumEigensolver\n",
    "from qiskit_nature.second_q.mappers import JordanWignerMapper\n",
    "from qiskit.algorithms.minimum_eigensolvers import VQE\n",
    "from qiskit.algorithms.optimizers import SLSQP\n",
    "from qiskit.primitives import Estimator\n",
    "from qiskit_nature.second_q.algorithms import GroundStateEigensolver, QEOM\n",
    "from qiskit_nature.second_q.circuit.library import HartreeFock, UCCSD\n",
    "from qiskit import *\n",
    "from qiskit import QuantumCircuit, ClassicalRegister, QuantumRegister, AncillaRegister, transpile\n",
    "from qiskit.tools.visualization import circuit_drawer\n",
    "from qiskit.quantum_info import state_fidelity, Statevector, Operator, Pauli, SparsePauliOp\n",
    "from qiskit import Aer\n",
    "from qiskit.primitives import Estimator\n",
    "from qiskit.algorithms.optimizers import SPSA\n",
    "from qiskit.circuit.library import TwoLocal, PauliEvolutionGate\n",
    "from qiskit.algorithms import TimeEvolutionProblem, RealTimeEvolver, RealEvolver, SciPyRealEvolver, VarQRTE\n",
    "from qiskit.algorithms.time_evolvers import TrotterQRTE\n",
    "from qiskit.circuit import Parameter, ControlledGate, Gate\n",
    "from qiskit.extensions import UnitaryGate\n",
    "from qiskit.converters import circuit_to_gate"
   ]
  },
  {
   "cell_type": "code",
   "execution_count": 5,
   "metadata": {},
   "outputs": [
    {
     "data": {
      "text/plain": [
       "<qiskit.circuit.instructionset.InstructionSet at 0x7fb6b025cb50>"
      ]
     },
     "execution_count": 5,
     "metadata": {},
     "output_type": "execute_result"
    }
   ],
   "source": [
    "from qiskit import QuantumCircuit, QuantumRegister, ClassicalRegister\n",
    "from qiskit import Aer, execute\n",
    "n_steps = 4 #Number of steps\n",
    "#Defining the shift gate\n",
    "shift_q = QuantumRegister(3) #3 qubit register\n",
    "shift_circ = QuantumCircuit (shift_q, name='shift_circ') #Circuit for shift operator\n",
    "shift_circ.ccx (shift_q[0], shift_q[1], shift_q[2]) #Toffoli gate\n",
    "shift_circ.cx ( shift_q[0], shift_q[1] ) #CNOT gate\n",
    "shift_circ.x ( shift_q[0] )\n",
    "shift_circ.x ( shift_q[1] )\n",
    "shift_circ.ccx (shift_q[0], shift_q[1], shift_q[2])\n",
    "shift_circ.x ( shift_q[1] )\n",
    "shift_circ.cx ( shift_q[0], shift_q[1] )\n",
    "shift_gate = shift_circ.to_instruction() #Convert the circuit to a gate\n",
    "q = QuantumRegister (3, name='q') #3 qubit register\n",
    "c = ClassicalRegister (3, name='c') #3 bit classical register\n",
    "circ = QuantumCircuit (q,c) #Main circuit\n",
    "for i in range(n_steps):\n",
    "    circ.h (q[0]) #Coin step\n",
    "    circ.append (shift_gate, [q[0],q[1],q[2]]) #Shift step\n",
    "circ.measure ([q[0],q[1],q[2]], [c[0],c[1],c[2]])\n"
   ]
  },
  {
   "cell_type": "code",
   "execution_count": 3,
   "metadata": {},
   "outputs": [],
   "source": [
    "backend = Aer.get_backend('aer_simulator')"
   ]
  },
  {
   "cell_type": "code",
   "execution_count": 7,
   "metadata": {},
   "outputs": [],
   "source": [
    "circ = transpile(circ, backend)"
   ]
  },
  {
   "cell_type": "code",
   "execution_count": null,
   "metadata": {},
   "outputs": [],
   "source": [
    "result = backend.run(circ).result()"
   ]
  }
 ],
 "metadata": {
  "kernelspec": {
   "display_name": "Python 3",
   "language": "python",
   "name": "python3"
  },
  "language_info": {
   "codemirror_mode": {
    "name": "ipython",
    "version": 3
   },
   "file_extension": ".py",
   "mimetype": "text/x-python",
   "name": "python",
   "nbconvert_exporter": "python",
   "pygments_lexer": "ipython3",
   "version": "3.8.10"
  },
  "orig_nbformat": 4
 },
 "nbformat": 4,
 "nbformat_minor": 2
}
